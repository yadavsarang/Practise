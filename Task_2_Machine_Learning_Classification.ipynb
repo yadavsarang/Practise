{
 "cells": [
  {
   "cell_type": "code",
   "execution_count": 1,
   "id": "d8f906fb",
   "metadata": {},
   "outputs": [],
   "source": [
    "import pandas as pd\n",
    "from sklearn.model_selection import train_test_split\n",
    "from sklearn.preprocessing import StandardScaler\n",
    "from sklearn.metrics import accuracy_score"
   ]
  },
  {
   "cell_type": "markdown",
   "id": "03a7d73a",
   "metadata": {},
   "source": [
    "# Data Preparation"
   ]
  },
  {
   "cell_type": "code",
   "execution_count": 2,
   "id": "3e0b471d",
   "metadata": {},
   "outputs": [],
   "source": [
    "train_df = pd.read_csv('train.csv')\n",
    "test_df = pd.read_csv('test.csv')"
   ]
  },
  {
   "cell_type": "code",
   "execution_count": 3,
   "id": "dbb0cd19",
   "metadata": {},
   "outputs": [
    {
     "data": {
      "text/html": [
       "<div>\n",
       "<style scoped>\n",
       "    .dataframe tbody tr th:only-of-type {\n",
       "        vertical-align: middle;\n",
       "    }\n",
       "\n",
       "    .dataframe tbody tr th {\n",
       "        vertical-align: top;\n",
       "    }\n",
       "\n",
       "    .dataframe thead th {\n",
       "        text-align: right;\n",
       "    }\n",
       "</style>\n",
       "<table border=\"1\" class=\"dataframe\">\n",
       "  <thead>\n",
       "    <tr style=\"text-align: right;\">\n",
       "      <th></th>\n",
       "      <th>T1</th>\n",
       "      <th>T2</th>\n",
       "      <th>T3</th>\n",
       "      <th>T4</th>\n",
       "      <th>T5</th>\n",
       "      <th>T6</th>\n",
       "      <th>T7</th>\n",
       "      <th>T8</th>\n",
       "      <th>T9</th>\n",
       "      <th>T10</th>\n",
       "      <th>T11</th>\n",
       "      <th>T12</th>\n",
       "      <th>T13</th>\n",
       "      <th>T14</th>\n",
       "      <th>T15</th>\n",
       "      <th>T16</th>\n",
       "      <th>T17</th>\n",
       "      <th>T18</th>\n",
       "      <th>target</th>\n",
       "    </tr>\n",
       "  </thead>\n",
       "  <tbody>\n",
       "    <tr>\n",
       "      <th>0</th>\n",
       "      <td>-70</td>\n",
       "      <td>-61</td>\n",
       "      <td>-66</td>\n",
       "      <td>-53</td>\n",
       "      <td>-51</td>\n",
       "      <td>-63</td>\n",
       "      <td>-82</td>\n",
       "      <td>-57</td>\n",
       "      <td>-76</td>\n",
       "      <td>-78</td>\n",
       "      <td>-66</td>\n",
       "      <td>-66</td>\n",
       "      <td>-61</td>\n",
       "      <td>-59</td>\n",
       "      <td>-73</td>\n",
       "      <td>-75</td>\n",
       "      <td>-63</td>\n",
       "      <td>-77</td>\n",
       "      <td>B37</td>\n",
       "    </tr>\n",
       "    <tr>\n",
       "      <th>1</th>\n",
       "      <td>-77</td>\n",
       "      <td>-74</td>\n",
       "      <td>-71</td>\n",
       "      <td>-76</td>\n",
       "      <td>-65</td>\n",
       "      <td>-63</td>\n",
       "      <td>-66</td>\n",
       "      <td>-52</td>\n",
       "      <td>-55</td>\n",
       "      <td>-75</td>\n",
       "      <td>-72</td>\n",
       "      <td>-75</td>\n",
       "      <td>-74</td>\n",
       "      <td>-61</td>\n",
       "      <td>-64</td>\n",
       "      <td>-63</td>\n",
       "      <td>-53</td>\n",
       "      <td>-63</td>\n",
       "      <td>B61</td>\n",
       "    </tr>\n",
       "    <tr>\n",
       "      <th>2</th>\n",
       "      <td>-53</td>\n",
       "      <td>-38</td>\n",
       "      <td>-55</td>\n",
       "      <td>-66</td>\n",
       "      <td>-62</td>\n",
       "      <td>-62</td>\n",
       "      <td>-65</td>\n",
       "      <td>-70</td>\n",
       "      <td>-62</td>\n",
       "      <td>-52</td>\n",
       "      <td>-56</td>\n",
       "      <td>-53</td>\n",
       "      <td>-66</td>\n",
       "      <td>-68</td>\n",
       "      <td>-72</td>\n",
       "      <td>-60</td>\n",
       "      <td>-68</td>\n",
       "      <td>-77</td>\n",
       "      <td>A19</td>\n",
       "    </tr>\n",
       "    <tr>\n",
       "      <th>3</th>\n",
       "      <td>-72</td>\n",
       "      <td>-62</td>\n",
       "      <td>-59</td>\n",
       "      <td>-65</td>\n",
       "      <td>-65</td>\n",
       "      <td>-65</td>\n",
       "      <td>-78</td>\n",
       "      <td>-82</td>\n",
       "      <td>-83</td>\n",
       "      <td>-59</td>\n",
       "      <td>-84</td>\n",
       "      <td>-60</td>\n",
       "      <td>-64</td>\n",
       "      <td>-83</td>\n",
       "      <td>-69</td>\n",
       "      <td>-72</td>\n",
       "      <td>-95</td>\n",
       "      <td>-73</td>\n",
       "      <td>A22</td>\n",
       "    </tr>\n",
       "    <tr>\n",
       "      <th>4</th>\n",
       "      <td>-67</td>\n",
       "      <td>-69</td>\n",
       "      <td>-65</td>\n",
       "      <td>-63</td>\n",
       "      <td>-59</td>\n",
       "      <td>-53</td>\n",
       "      <td>-70</td>\n",
       "      <td>-72</td>\n",
       "      <td>-71</td>\n",
       "      <td>-60</td>\n",
       "      <td>-61</td>\n",
       "      <td>-57</td>\n",
       "      <td>-54</td>\n",
       "      <td>-76</td>\n",
       "      <td>-61</td>\n",
       "      <td>-66</td>\n",
       "      <td>-71</td>\n",
       "      <td>-80</td>\n",
       "      <td>A33</td>\n",
       "    </tr>\n",
       "  </tbody>\n",
       "</table>\n",
       "</div>"
      ],
      "text/plain": [
       "   T1  T2  T3  T4  T5  T6  T7  T8  T9  T10  T11  T12  T13  T14  T15  T16  T17  \\\n",
       "0 -70 -61 -66 -53 -51 -63 -82 -57 -76  -78  -66  -66  -61  -59  -73  -75  -63   \n",
       "1 -77 -74 -71 -76 -65 -63 -66 -52 -55  -75  -72  -75  -74  -61  -64  -63  -53   \n",
       "2 -53 -38 -55 -66 -62 -62 -65 -70 -62  -52  -56  -53  -66  -68  -72  -60  -68   \n",
       "3 -72 -62 -59 -65 -65 -65 -78 -82 -83  -59  -84  -60  -64  -83  -69  -72  -95   \n",
       "4 -67 -69 -65 -63 -59 -53 -70 -72 -71  -60  -61  -57  -54  -76  -61  -66  -71   \n",
       "\n",
       "   T18 target  \n",
       "0  -77    B37  \n",
       "1  -63    B61  \n",
       "2  -77    A19  \n",
       "3  -73    A22  \n",
       "4  -80    A33  "
      ]
     },
     "execution_count": 3,
     "metadata": {},
     "output_type": "execute_result"
    }
   ],
   "source": [
    "train_df.head()"
   ]
  },
  {
   "cell_type": "code",
   "execution_count": 4,
   "id": "d91b35ac",
   "metadata": {},
   "outputs": [
    {
     "data": {
      "text/html": [
       "<div>\n",
       "<style scoped>\n",
       "    .dataframe tbody tr th:only-of-type {\n",
       "        vertical-align: middle;\n",
       "    }\n",
       "\n",
       "    .dataframe tbody tr th {\n",
       "        vertical-align: top;\n",
       "    }\n",
       "\n",
       "    .dataframe thead th {\n",
       "        text-align: right;\n",
       "    }\n",
       "</style>\n",
       "<table border=\"1\" class=\"dataframe\">\n",
       "  <thead>\n",
       "    <tr style=\"text-align: right;\">\n",
       "      <th></th>\n",
       "      <th>T1</th>\n",
       "      <th>T2</th>\n",
       "      <th>T3</th>\n",
       "      <th>T4</th>\n",
       "      <th>T5</th>\n",
       "      <th>T6</th>\n",
       "      <th>T7</th>\n",
       "      <th>T8</th>\n",
       "      <th>T9</th>\n",
       "      <th>T10</th>\n",
       "      <th>T11</th>\n",
       "      <th>T12</th>\n",
       "      <th>T13</th>\n",
       "      <th>T14</th>\n",
       "      <th>T15</th>\n",
       "      <th>T16</th>\n",
       "      <th>T17</th>\n",
       "      <th>T18</th>\n",
       "    </tr>\n",
       "  </thead>\n",
       "  <tbody>\n",
       "    <tr>\n",
       "      <th>0</th>\n",
       "      <td>-76</td>\n",
       "      <td>-83</td>\n",
       "      <td>-70</td>\n",
       "      <td>-66</td>\n",
       "      <td>-64</td>\n",
       "      <td>-72</td>\n",
       "      <td>-64</td>\n",
       "      <td>-69</td>\n",
       "      <td>-60</td>\n",
       "      <td>-76</td>\n",
       "      <td>-83</td>\n",
       "      <td>-78</td>\n",
       "      <td>-81</td>\n",
       "      <td>-81</td>\n",
       "      <td>-81</td>\n",
       "      <td>-70</td>\n",
       "      <td>-60</td>\n",
       "      <td>-60</td>\n",
       "    </tr>\n",
       "    <tr>\n",
       "      <th>1</th>\n",
       "      <td>-58</td>\n",
       "      <td>-57</td>\n",
       "      <td>-78</td>\n",
       "      <td>-81</td>\n",
       "      <td>-73</td>\n",
       "      <td>-73</td>\n",
       "      <td>-78</td>\n",
       "      <td>-78</td>\n",
       "      <td>-82</td>\n",
       "      <td>-49</td>\n",
       "      <td>-55</td>\n",
       "      <td>-58</td>\n",
       "      <td>-66</td>\n",
       "      <td>-79</td>\n",
       "      <td>-72</td>\n",
       "      <td>-83</td>\n",
       "      <td>-74</td>\n",
       "      <td>-80</td>\n",
       "    </tr>\n",
       "    <tr>\n",
       "      <th>2</th>\n",
       "      <td>-70</td>\n",
       "      <td>-70</td>\n",
       "      <td>-71</td>\n",
       "      <td>-69</td>\n",
       "      <td>-69</td>\n",
       "      <td>-68</td>\n",
       "      <td>-61</td>\n",
       "      <td>-55</td>\n",
       "      <td>-53</td>\n",
       "      <td>-82</td>\n",
       "      <td>-87</td>\n",
       "      <td>-76</td>\n",
       "      <td>-68</td>\n",
       "      <td>-57</td>\n",
       "      <td>-64</td>\n",
       "      <td>-75</td>\n",
       "      <td>-57</td>\n",
       "      <td>-70</td>\n",
       "    </tr>\n",
       "    <tr>\n",
       "      <th>3</th>\n",
       "      <td>-71</td>\n",
       "      <td>-61</td>\n",
       "      <td>-56</td>\n",
       "      <td>-56</td>\n",
       "      <td>-61</td>\n",
       "      <td>-60</td>\n",
       "      <td>-68</td>\n",
       "      <td>-66</td>\n",
       "      <td>-72</td>\n",
       "      <td>-58</td>\n",
       "      <td>-55</td>\n",
       "      <td>-56</td>\n",
       "      <td>-58</td>\n",
       "      <td>-62</td>\n",
       "      <td>-61</td>\n",
       "      <td>-59</td>\n",
       "      <td>-64</td>\n",
       "      <td>-65</td>\n",
       "    </tr>\n",
       "    <tr>\n",
       "      <th>4</th>\n",
       "      <td>-72</td>\n",
       "      <td>-71</td>\n",
       "      <td>-64</td>\n",
       "      <td>-69</td>\n",
       "      <td>-64</td>\n",
       "      <td>-63</td>\n",
       "      <td>-61</td>\n",
       "      <td>-42</td>\n",
       "      <td>-55</td>\n",
       "      <td>-61</td>\n",
       "      <td>-69</td>\n",
       "      <td>-67</td>\n",
       "      <td>-63</td>\n",
       "      <td>-63</td>\n",
       "      <td>-55</td>\n",
       "      <td>-49</td>\n",
       "      <td>-49</td>\n",
       "      <td>-57</td>\n",
       "    </tr>\n",
       "  </tbody>\n",
       "</table>\n",
       "</div>"
      ],
      "text/plain": [
       "   T1  T2  T3  T4  T5  T6  T7  T8  T9  T10  T11  T12  T13  T14  T15  T16  T17  \\\n",
       "0 -76 -83 -70 -66 -64 -72 -64 -69 -60  -76  -83  -78  -81  -81  -81  -70  -60   \n",
       "1 -58 -57 -78 -81 -73 -73 -78 -78 -82  -49  -55  -58  -66  -79  -72  -83  -74   \n",
       "2 -70 -70 -71 -69 -69 -68 -61 -55 -53  -82  -87  -76  -68  -57  -64  -75  -57   \n",
       "3 -71 -61 -56 -56 -61 -60 -68 -66 -72  -58  -55  -56  -58  -62  -61  -59  -64   \n",
       "4 -72 -71 -64 -69 -64 -63 -61 -42 -55  -61  -69  -67  -63  -63  -55  -49  -49   \n",
       "\n",
       "   T18  \n",
       "0  -60  \n",
       "1  -80  \n",
       "2  -70  \n",
       "3  -65  \n",
       "4  -57  "
      ]
     },
     "execution_count": 4,
     "metadata": {},
     "output_type": "execute_result"
    }
   ],
   "source": [
    "test_df.head()"
   ]
  },
  {
   "cell_type": "code",
   "execution_count": 5,
   "id": "4f6ccc53",
   "metadata": {},
   "outputs": [
    {
     "data": {
      "text/plain": [
       "T1        0\n",
       "T2        0\n",
       "T3        0\n",
       "T4        0\n",
       "T5        0\n",
       "T6        0\n",
       "T7        0\n",
       "T8        0\n",
       "T9        0\n",
       "T10       0\n",
       "T11       0\n",
       "T12       0\n",
       "T13       0\n",
       "T14       0\n",
       "T15       0\n",
       "T16       0\n",
       "T17       0\n",
       "T18       0\n",
       "target    0\n",
       "dtype: int64"
      ]
     },
     "execution_count": 5,
     "metadata": {},
     "output_type": "execute_result"
    }
   ],
   "source": [
    "train_df.isnull().sum()"
   ]
  },
  {
   "cell_type": "code",
   "execution_count": 6,
   "id": "3d89296b",
   "metadata": {},
   "outputs": [
    {
     "data": {
      "text/plain": [
       "T1     0\n",
       "T2     0\n",
       "T3     0\n",
       "T4     0\n",
       "T5     0\n",
       "T6     0\n",
       "T7     0\n",
       "T8     0\n",
       "T9     0\n",
       "T10    0\n",
       "T11    0\n",
       "T12    0\n",
       "T13    0\n",
       "T14    0\n",
       "T15    0\n",
       "T16    0\n",
       "T17    0\n",
       "T18    0\n",
       "dtype: int64"
      ]
     },
     "execution_count": 6,
     "metadata": {},
     "output_type": "execute_result"
    }
   ],
   "source": [
    "test_df.isnull().sum()"
   ]
  },
  {
   "cell_type": "code",
   "execution_count": 7,
   "id": "fc039b64",
   "metadata": {},
   "outputs": [],
   "source": [
    "x_train = train_df.drop(columns=['target'])\n",
    "y_train = train_df['target']"
   ]
  },
  {
   "cell_type": "code",
   "execution_count": 8,
   "id": "9f07018b",
   "metadata": {},
   "outputs": [],
   "source": [
    "x_test = test_df"
   ]
  },
  {
   "cell_type": "code",
   "execution_count": 9,
   "id": "c1247349",
   "metadata": {},
   "outputs": [],
   "source": [
    "scaler = StandardScaler()\n",
    "x_train_scaled = scaler.fit_transform(x_train)\n",
    "x_test_scaled = scaler.fit_transform(x_test)"
   ]
  },
  {
   "cell_type": "code",
   "execution_count": 10,
   "id": "c3a9c428",
   "metadata": {},
   "outputs": [
    {
     "data": {
      "text/plain": [
       "array([[-0.47321406,  0.39508167, -0.17481688, ..., -1.03062689,\n",
       "         0.28899656, -0.98195758],\n",
       "       [-1.27438905, -1.06322685, -0.78798229, ...,  0.10784997,\n",
       "         1.28186418,  0.33869147],\n",
       "       [ 1.47249662,  2.97516597,  1.17414703, ...,  0.39246918,\n",
       "        -0.20743726, -0.98195758],\n",
       "       ...,\n",
       "       [ 2.73148589,  0.7316144 , -0.91061537, ..., -0.55626153,\n",
       "        -0.90244459, -0.69896135],\n",
       "       [ 1.81585733,  1.62903503, -0.6653492 , ..., -0.93575382,\n",
       "        -0.60458431, -1.35928588],\n",
       "       [-0.01539979,  0.05854893, -0.6653492 , ...,  0.29759611,\n",
       "        -0.10815049,  0.15002732]])"
      ]
     },
     "execution_count": 10,
     "metadata": {},
     "output_type": "execute_result"
    }
   ],
   "source": [
    "x_train_scaled"
   ]
  },
  {
   "cell_type": "code",
   "execution_count": 11,
   "id": "a8efcd22",
   "metadata": {},
   "outputs": [
    {
     "data": {
      "text/plain": [
       "array([[-1.15680286, -2.05114505, -0.67103324, ..., -0.54792197,\n",
       "         0.59284254,  0.63077694],\n",
       "       [ 0.89896217,  0.83256454, -1.64957776, ..., -1.78823581,\n",
       "        -0.80716581, -1.279845  ],\n",
       "       [-0.47154785, -0.60929025, -0.79335131, ..., -1.02496576,\n",
       "         0.89284433, -0.32453403],\n",
       "       ...,\n",
       "       [-1.15680286, -0.27655453, -0.54871518, ..., -0.16628695,\n",
       "         1.09284552,  1.20396352],\n",
       "       [-0.35733868, -1.49658551, -0.05944291, ...,  0.02453057,\n",
       "        -0.00716104, -0.22900293],\n",
       "       [-0.92838452, -0.38746644, -0.67103324, ...,  0.69239186,\n",
       "         1.39284731,  1.01290133]])"
      ]
     },
     "execution_count": 11,
     "metadata": {},
     "output_type": "execute_result"
    }
   ],
   "source": [
    "x_test_scaled"
   ]
  },
  {
   "cell_type": "markdown",
   "id": "6befcb15",
   "metadata": {},
   "source": [
    "# Model Selection and Training and Saving them as Pickle Files"
   ]
  },
  {
   "cell_type": "code",
   "execution_count": 14,
   "id": "61427bc7",
   "metadata": {},
   "outputs": [],
   "source": [
    "from sklearn.linear_model import LogisticRegression\n",
    "from sklearn.tree import DecisionTreeClassifier\n",
    "from sklearn.ensemble import RandomForestClassifier\n",
    "from sklearn.svm import SVC"
   ]
  },
  {
   "cell_type": "code",
   "execution_count": 17,
   "id": "428cd7ac",
   "metadata": {},
   "outputs": [],
   "source": [
    "# Initialize Models\n",
    "models = {\n",
    "    'Logistic Regression' : LogisticRegression(max_iter = 1000),\n",
    "    'Decision Tree' : DecisionTreeClassifier(),\n",
    "    'Random Forest' : RandomForestClassifier(n_estimators = 100),\n",
    "    'SVM' : SVC()\n",
    "}"
   ]
  },
  {
   "cell_type": "code",
   "execution_count": 16,
   "id": "335566a8",
   "metadata": {},
   "outputs": [],
   "source": [
    "# Dictionary to store training accuracies\n",
    "train_accuracies = {}"
   ]
  },
  {
   "cell_type": "code",
   "execution_count": 25,
   "id": "2424d8e4",
   "metadata": {},
   "outputs": [],
   "source": [
    "import joblib"
   ]
  },
  {
   "cell_type": "code",
   "execution_count": 26,
   "id": "779f74bd",
   "metadata": {},
   "outputs": [
    {
     "name": "stdout",
     "output_type": "stream",
     "text": [
      "Logistic Regression Training Accuracy : 0.9770352633870265\n",
      "Model saved as logistic_regression_model.pkl\n",
      "Decision Tree Training Accuracy : 0.9994286025250326\n",
      "Model saved as decision_tree_model.pkl\n",
      "Random Forest Training Accuracy : 0.9994286025250326\n",
      "Model saved as random_forest_model.pkl\n",
      "SVM Training Accuracy : 0.9901229865041359\n",
      "Model saved as svm_model.pkl\n"
     ]
    }
   ],
   "source": [
    "for name, model in models.items():\n",
    "    model.fit(x_train_scaled, y_train)\n",
    "    y_train_pred = model.predict(x_train_scaled)\n",
    "    accuracy = accuracy_score(y_train, y_train_pred)\n",
    "    train_accuracies[name] = accuracy\n",
    "    print(f'{name} Training Accuracy : {accuracy}')\n",
    "    model_filename = f'{name.replace(\" \", \"_\").lower()}_model.pkl'\n",
    "    joblib.dump(model, model_filename)\n",
    "    print(f'Model saved as {model_filename}')"
   ]
  },
  {
   "cell_type": "markdown",
   "id": "5e3aa241",
   "metadata": {},
   "source": [
    "# Model Testing and Prediction"
   ]
  },
  {
   "cell_type": "code",
   "execution_count": 27,
   "id": "15801d00",
   "metadata": {},
   "outputs": [],
   "source": [
    "test_predictions = {}\n",
    "\n",
    "for name, model in models.items():\n",
    "    y_test_pred = model.predict(x_test_scaled)\n",
    "    test_predictions[name] = y_test_pred\n",
    "    \n",
    "    pd.DataFrame(y_test_pred, columns=['target']).to_csv(f'test_predictions_{name.replace(\" \", \"_\")}.csv', index=False)"
   ]
  },
  {
   "cell_type": "markdown",
   "id": "bf93f1af",
   "metadata": {},
   "source": [
    "# Report Accuracy and Choose the Best Model"
   ]
  },
  {
   "cell_type": "code",
   "execution_count": 28,
   "id": "5a796c8d",
   "metadata": {},
   "outputs": [
    {
     "name": "stdout",
     "output_type": "stream",
     "text": [
      "\n",
      "Training Accuracies:\n",
      "Logistic Regression: 0.9770352633870265\n",
      "Decision Tree: 0.9994286025250326\n",
      "Random Forest: 0.9994286025250326\n",
      "SVM: 0.9901229865041359\n",
      "\n",
      "Best Model: Decision Tree with Training Accuracy: 0.9994286025250326\n"
     ]
    }
   ],
   "source": [
    "# Report training accuracies\n",
    "print(\"\\nTraining Accuracies:\")\n",
    "for name, accuracy in train_accuracies.items():\n",
    "    print(f'{name}: {accuracy}')\n",
    "\n",
    "# Justification for model choice\n",
    "# The model with the highest training accuracy will be our primary choice.\n",
    "best_model_name = max(train_accuracies, key=train_accuracies.get)\n",
    "best_model_accuracy = train_accuracies[best_model_name]\n",
    "print(f'\\nBest Model: {best_model_name} with Training Accuracy: {best_model_accuracy}')\n",
    "\n",
    "# Assuming we need to provide the prediction file for the best model\n",
    "best_model_predictions = test_predictions[best_model_name]\n",
    "pd.DataFrame(best_model_predictions, columns=['target']).to_csv('best_model_test_predictions.csv', index=False)"
   ]
  },
  {
   "cell_type": "code",
   "execution_count": null,
   "id": "339856bc",
   "metadata": {},
   "outputs": [],
   "source": []
  },
  {
   "cell_type": "code",
   "execution_count": null,
   "id": "c9241092",
   "metadata": {},
   "outputs": [],
   "source": []
  },
  {
   "cell_type": "code",
   "execution_count": null,
   "id": "234c08a6",
   "metadata": {},
   "outputs": [],
   "source": []
  },
  {
   "cell_type": "markdown",
   "id": "fb58b568",
   "metadata": {},
   "source": [
    "# Streamlit App"
   ]
  },
  {
   "cell_type": "code",
   "execution_count": 1,
   "id": "e4a0a24e",
   "metadata": {},
   "outputs": [
    {
     "name": "stderr",
     "output_type": "stream",
     "text": [
      "2024-05-25 21:04:13.382 \n",
      "  \u001b[33m\u001b[1mWarning:\u001b[0m to view this Streamlit app on a browser, run it with the following\n",
      "  command:\n",
      "\n",
      "    streamlit run C:\\Users\\saran\\anaconda3\\Lib\\site-packages\\ipykernel_launcher.py [ARGUMENTS]\n",
      "2024-05-25 21:04:13.393 Session state does not function when running a script without `streamlit run`\n"
     ]
    }
   ],
   "source": [
    "import streamlit as st\n",
    "import pandas as pd\n",
    "import joblib\n",
    "\n",
    "# Load the test data\n",
    "test_data = pd.read_csv(r\"D:\\Internship tasks\\Task1and2\\test.csv\")\n",
    "\n",
    "# Load the trained models\n",
    "model_files = {\n",
    "    'Logistic Regression': r'D:\\Internship tasks\\Task1and2\\logistic_regression_model.pkl',\n",
    "    'Decision Tree': r'D:\\Internship tasks\\Task1and2\\decision_tree_model.pkl',\n",
    "    'Random Forest': r'D:\\Internship tasks\\Task1and2\\random_forest_model.pkl',\n",
    "    'SVM': r'D:\\Internship tasks\\Task1and2\\svm_model.pkl'\n",
    "}\n",
    "\n",
    "# Function to make predictions\n",
    "def predict(model_name, data):\n",
    "    model = joblib.load(model_files[model_name])\n",
    "    predictions = model.predict(data)\n",
    "    return predictions\n",
    "\n",
    "# Streamlit UI\n",
    "st.title('Model Prediction')\n",
    "\n",
    "# Display the test data\n",
    "st.write('Test Data:')\n",
    "st.write(test_data)\n",
    "\n",
    "# Input box for user to enter data\n",
    "user_input = st.text_input('Enter your data separated by spaces:')\n",
    "if user_input:\n",
    "    user_data = [float(val) for val in user_input.split()]\n",
    "    user_data = [user_data]  # Convert to 2D array\n",
    "    selected_model = st.selectbox('Select a model:', list(model_files.keys()))\n",
    "    if st.button('Predict'):\n",
    "        predictions = predict(selected_model, user_data)\n",
    "        st.write('Predictions:')\n",
    "        st.write(predictions)"
   ]
  },
  {
   "cell_type": "code",
   "execution_count": null,
   "id": "080ca526",
   "metadata": {},
   "outputs": [],
   "source": []
  }
 ],
 "metadata": {
  "kernelspec": {
   "display_name": "Python 3 (ipykernel)",
   "language": "python",
   "name": "python3"
  },
  "language_info": {
   "codemirror_mode": {
    "name": "ipython",
    "version": 3
   },
   "file_extension": ".py",
   "mimetype": "text/x-python",
   "name": "python",
   "nbconvert_exporter": "python",
   "pygments_lexer": "ipython3",
   "version": "3.11.5"
  }
 },
 "nbformat": 4,
 "nbformat_minor": 5
}
